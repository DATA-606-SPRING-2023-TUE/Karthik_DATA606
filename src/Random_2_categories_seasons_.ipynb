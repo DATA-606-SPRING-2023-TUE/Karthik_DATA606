{
  "cells": [
    {
      "cell_type": "markdown",
      "source": [
        "Importing all the required libraries"
      ],
      "metadata": {
        "id": "JXA2gfXJ3rVa"
      },
      "id": "JXA2gfXJ3rVa"
    },
    {
      "cell_type": "code",
      "execution_count": 1,
      "source": [
        "import random\n",
        "import numpy as np\n",
        "import pandas as pd\n",
        "import matplotlib.pyplot as plt\n",
        "from sklearn.preprocessing import StandardScaler\n",
        "from sklearn.model_selection import train_test_split\n",
        "from sklearn.preprocessing import OneHotEncoder\n",
        "from sklearn.ensemble import RandomForestClassifier\n",
        "from sklearn.ensemble import GradientBoostingClassifier\n",
        "from sklearn.metrics import confusion_matrix, classification_report, accuracy_score\n",
        "from sklearn.pipeline import Pipeline\n",
        "from sklearn.compose import ColumnTransformer\n",
        "from sklearn.impute import SimpleImputer\n",
        "from sklearn.preprocessing import OneHotEncoder\n",
        "from sklearn.preprocessing import StandardScaler\n",
        "from sklearn.tree import DecisionTreeClassifier\n",
        "from sklearn.model_selection import GridSearchCV\n",
        "from sklearn.svm import SVC\n",
        "from sklearn.neighbors import KNeighborsClassifier\n"
      ],
      "outputs": [],
      "metadata": {
        "id": "Ktu_pxZf3rVd"
      },
      "id": "Ktu_pxZf3rVd"
    },
    {
      "cell_type": "markdown",
      "source": [
        "Reading the CSV File aand breaking the DateTime to seasons, weekday"
      ],
      "metadata": {
        "id": "fEK7cOQO3rVf"
      },
      "id": "fEK7cOQO3rVf"
    },
    {
      "cell_type": "code",
      "execution_count": 10,
      "source": [
        "\n",
        "\n",
        "df = pd.read_csv(\"/content/sample_data/Part1_Crime_data.csv\")\n",
        "df.shape\n",
        "\n",
        "df['CrimeDateTime'] = df['CrimeDateTime'].astype('datetime64[ns]')\n",
        "df['Crime_Year']=df.CrimeDateTime.dt.year\n",
        "df['Crime_Month']=df.CrimeDateTime.dt.month_name()\n",
        "df['Crime_Day']=df.CrimeDateTime.dt.day\n",
        "df['Crime_Hour']=df.CrimeDateTime.dt.hour\n",
        "df['Crime_WeekDay'] = df.CrimeDateTime.dt.weekday\n",
        "print(df['Crime_WeekDay'])\n"
      ],
      "outputs": [
        {
          "output_type": "stream",
          "name": "stdout",
          "text": [
            "0         5\n",
            "1         5\n",
            "2         5\n",
            "3         5\n",
            "4         5\n",
            "         ..\n",
            "434539    2\n",
            "434540    2\n",
            "434541    2\n",
            "434542    2\n",
            "434543    2\n",
            "Name: Crime_WeekDay, Length: 434544, dtype: int64\n"
          ]
        }
      ],
      "metadata": {
        "colab": {
          "base_uri": "https://localhost:8080/"
        },
        "id": "bPUMfAvu3rVf",
        "outputId": "075f7ea6-93ff-45d8-bdbb-bb8626a38a22"
      },
      "id": "bPUMfAvu3rVf"
    },
    {
      "cell_type": "markdown",
      "source": [
        "Categorizing the Crime types into Low Medium and High (0,1,2)"
      ],
      "metadata": {
        "id": "QHfoCVNg3rVh"
      },
      "id": "QHfoCVNg3rVh"
    },
    {
      "cell_type": "code",
      "execution_count": 11,
      "source": [
        "\n",
        "replace_val = \"NON_FATAL\"\n",
        "df.replace(\"LARCENY\", replace_val, inplace=True)\n",
        "df.replace(\"LARCENY FROM AUTO\", replace_val, inplace=True)\n",
        "df.replace(\"AUTO THEFT\", replace_val, inplace=True)\n",
        "df.replace(\"BURGLARY\", replace_val, inplace=True)\n",
        "df.replace(\"ROBBERY\", replace_val, inplace=True)\n",
        "df.replace(\"ROBBERY - STREET\", replace_val, inplace=True)\n",
        "df.replace(\"ROBBERY - COMMERCIAL\", replace_val, inplace=True)\n",
        "df.replace(\"ROBBERY - RESIDENCE\", replace_val, inplace=True)\n",
        "df.replace(\"ROBBERY - CARJACKING\", replace_val, inplace=True)\n",
        "df.replace(\"ASSAULT\", replace_val, inplace=True)\n",
        "df.replace(\"COMMON ASSAULT\", replace_val, inplace=True)\n",
        "df.replace(\"AGG. ASSAULT\", replace_val, inplace=True)\n",
        "\n",
        "#Fatal\n",
        "replace_val = \"FATAL\"\n",
        "df.replace(\"SHOOTING\", replace_val, inplace=True)\n",
        "df.replace(\"RAPE\", replace_val, inplace=True)\n",
        "df.replace(\"ARSON\", replace_val, inplace=True)\n",
        "df.replace(\"HOMICIDE\", replace_val, inplace=True)\n",
        "\n",
        "\n"
      ],
      "outputs": [],
      "metadata": {
        "id": "194pzhny3rVi"
      },
      "id": "194pzhny3rVi"
    },
    {
      "cell_type": "markdown",
      "source": [
        "Categorizing months into seasons"
      ],
      "metadata": {
        "id": "iv7mzXyb3rVj"
      },
      "id": "iv7mzXyb3rVj"
    },
    {
      "cell_type": "code",
      "execution_count": 12,
      "source": [
        "\n",
        "\n",
        "\n",
        "#changing the labels of month to quantitative values\n",
        "#1-Spring\n",
        "#2-Summer\n",
        "#3-Rainy\n",
        "#4-Winter\n",
        "df.replace(\"January\", 4, inplace=True)\n",
        "df.replace(\"February\", 4, inplace=True)\n",
        "df.replace(\"March\", 1, inplace=True)\n",
        "df.replace(\"April\", 1, inplace=True)\n",
        "df.replace(\"May\", 1, inplace=True)\n",
        "df.replace(\"June\", 2, inplace=True)\n",
        "df.replace(\"July\", 2, inplace=True)\n",
        "df.replace(\"August\", 2, inplace=True)\n",
        "df.replace(\"September\", 3, inplace=True)\n",
        "df.replace(\"October\", 3, inplace=True)\n",
        "df.replace(\"November\", 3, inplace=True)\n",
        "df.replace(\"December\", 4, inplace=True)\n",
        "\n",
        "df['Crime_WeekDay'] = np.where((df['Crime_WeekDay']) < 5,0,1)\n",
        "\n",
        "df = df.rename(columns={'Description': 'Level', 'Crime_Month': 'Season'})\n",
        "\n",
        "\n",
        "col_list = ['Season','Crime_Hour','District','Neighborhood','Crime_WeekDay']\n",
        "\n",
        "df2 = df[col_list]\n",
        "\n",
        "#factorize independent variables:\n",
        "\n"
      ],
      "outputs": [],
      "metadata": {
        "id": "bmDAiUmD3rVj"
      },
      "id": "bmDAiUmD3rVj"
    },
    {
      "cell_type": "markdown",
      "source": [
        "Factorizing independent variables"
      ],
      "metadata": {
        "id": "B5QIH9h73rVk"
      },
      "id": "B5QIH9h73rVk"
    },
    {
      "cell_type": "code",
      "execution_count": 13,
      "source": [
        "#factorize weekday\n",
        "weekday_var = pd.factorize(df2['Crime_WeekDay'])\n",
        "df2['Crime_WeekDay'] = weekday_var[0]\n",
        "weekday = weekday_var[1] \n",
        "\n",
        "#factorize Season:\n",
        "season_var = pd.factorize(df2['Season'])\n",
        "df2['Season'] = season_var[0]\n",
        "season = season_var[1] \n",
        "\n",
        "#factorize Crime_Hour:\n",
        "hour_var = pd.factorize(df2['Crime_Hour'])\n",
        "df2['Crime_Hour'] = hour_var[0]\n",
        "definition_list_Crime_Hour = hour_var[1] \n",
        "\n",
        "#factorize District:\n",
        "district_var = pd.factorize(df2['District'])\n",
        "df2['District'] = district_var[0]\n",
        "district = district_var[1] \n",
        "\n",
        "#factorize Neighborhood:\n",
        "neighbourhood_var = pd.factorize(df2['Neighborhood'])\n",
        "df2['Neighborhood'] = neighbourhood_var[0]\n",
        "neighborhood = neighbourhood_var[1]\n",
        "\n",
        "\n",
        "\n",
        "\n",
        "\n",
        "y=df['Level']\n",
        "X=df2\n"
      ],
      "outputs": [
        {
          "output_type": "stream",
          "name": "stderr",
          "text": [
            "<ipython-input-13-f4cf0272056f>:3: SettingWithCopyWarning: \n",
            "A value is trying to be set on a copy of a slice from a DataFrame.\n",
            "Try using .loc[row_indexer,col_indexer] = value instead\n",
            "\n",
            "See the caveats in the documentation: https://pandas.pydata.org/pandas-docs/stable/user_guide/indexing.html#returning-a-view-versus-a-copy\n",
            "  df2['Crime_WeekDay'] = weekday_var[0]\n",
            "<ipython-input-13-f4cf0272056f>:8: SettingWithCopyWarning: \n",
            "A value is trying to be set on a copy of a slice from a DataFrame.\n",
            "Try using .loc[row_indexer,col_indexer] = value instead\n",
            "\n",
            "See the caveats in the documentation: https://pandas.pydata.org/pandas-docs/stable/user_guide/indexing.html#returning-a-view-versus-a-copy\n",
            "  df2['Season'] = season_var[0]\n",
            "<ipython-input-13-f4cf0272056f>:13: SettingWithCopyWarning: \n",
            "A value is trying to be set on a copy of a slice from a DataFrame.\n",
            "Try using .loc[row_indexer,col_indexer] = value instead\n",
            "\n",
            "See the caveats in the documentation: https://pandas.pydata.org/pandas-docs/stable/user_guide/indexing.html#returning-a-view-versus-a-copy\n",
            "  df2['Crime_Hour'] = hour_var[0]\n",
            "<ipython-input-13-f4cf0272056f>:18: SettingWithCopyWarning: \n",
            "A value is trying to be set on a copy of a slice from a DataFrame.\n",
            "Try using .loc[row_indexer,col_indexer] = value instead\n",
            "\n",
            "See the caveats in the documentation: https://pandas.pydata.org/pandas-docs/stable/user_guide/indexing.html#returning-a-view-versus-a-copy\n",
            "  df2['District'] = district_var[0]\n",
            "<ipython-input-13-f4cf0272056f>:23: SettingWithCopyWarning: \n",
            "A value is trying to be set on a copy of a slice from a DataFrame.\n",
            "Try using .loc[row_indexer,col_indexer] = value instead\n",
            "\n",
            "See the caveats in the documentation: https://pandas.pydata.org/pandas-docs/stable/user_guide/indexing.html#returning-a-view-versus-a-copy\n",
            "  df2['Neighborhood'] = neighbourhood_var[0]\n"
          ]
        }
      ],
      "metadata": {
        "colab": {
          "base_uri": "https://localhost:8080/"
        },
        "id": "y_MiXF3e3rVk",
        "outputId": "af0beeb2-311b-4c2a-cec6-b6034f4a9ff0"
      },
      "id": "y_MiXF3e3rVk"
    },
    {
      "cell_type": "code",
      "execution_count": 14,
      "source": [
        "df2.head"
      ],
      "outputs": [
        {
          "output_type": "execute_result",
          "data": {
            "text/plain": [
              "<bound method NDFrame.head of         Season  Crime_Hour  District  Neighborhood  Crime_WeekDay\n",
              "0            0           0         0             0              0\n",
              "1            0           0         0             0              0\n",
              "2            0           0         0             0              0\n",
              "3            0           1         1             1              0\n",
              "4            0           2         2             2              0\n",
              "...        ...         ...       ...           ...            ...\n",
              "434539       3           7         7           237              1\n",
              "434540       3          21         6           165              1\n",
              "434541       3           4         4            41              1\n",
              "434542       3           4         6           106              1\n",
              "434543       3          17         7            12              1\n",
              "\n",
              "[434544 rows x 5 columns]>"
            ]
          },
          "metadata": {},
          "execution_count": 14
        }
      ],
      "metadata": {
        "colab": {
          "base_uri": "https://localhost:8080/"
        },
        "id": "BLbSvtjg3rVl",
        "outputId": "fbbf5cec-24d1-4168-a99c-a99a191a404e"
      },
      "id": "BLbSvtjg3rVl"
    },
    {
      "cell_type": "markdown",
      "source": [
        "Splitting the Train and Test Data\n"
      ],
      "metadata": {
        "id": "Snq9Cbbh3rVm"
      },
      "id": "Snq9Cbbh3rVm"
    },
    {
      "cell_type": "code",
      "execution_count": 15,
      "source": [
        "x_train, x_test, y_train, y_test = train_test_split(X, y, test_size=0.2, random_state = 123)"
      ],
      "outputs": [],
      "metadata": {
        "id": "7lfed2eU3rVm"
      },
      "id": "7lfed2eU3rVm"
    },
    {
      "cell_type": "markdown",
      "source": [
        "Created the RandomForestClassifier using GridSearchCV"
      ],
      "metadata": {
        "id": "0fQDwpDx3rVn"
      },
      "id": "0fQDwpDx3rVn"
    },
    {
      "cell_type": "code",
      "execution_count": null,
      "source": [
        "random = RandomForestClassifier()\n",
        "from sklearn.model_selection import GridSearchCV\n",
        "k_range = list(range(1, 31))\n",
        "param_grid = dict(n_estimators=k_range)\n",
        "# param_grid = [\n",
        "#   {'max_depth': [2, 5, 10],\n",
        "#    'min_samples_split':[3, 5, 10],\n",
        "#    'class_weight':[None, 'balanced'],\n",
        "#    'n_estimators':[10,20]\n",
        "#   }\n",
        "#  ]\n",
        "  \n",
        "# defining parameter range\n",
        "grid = GridSearchCV(random, param_grid, cv=10, scoring='accuracy', return_train_score=False,verbose=1)\n",
        "  \n",
        "# fitting the model for grid search\n",
        "grid_search=grid.fit(x_train, y_train)"
      ],
      "outputs": [
        {
          "output_type": "stream",
          "name": "stdout",
          "text": [
            "Fitting 10 folds for each of 30 candidates, totalling 300 fits\n"
          ]
        }
      ],
      "metadata": {
        "colab": {
          "base_uri": "https://localhost:8080/"
        },
        "id": "-gU82L483rVn",
        "outputId": "b3e57fe7-4af7-47df-f60f-1900e7180d5d"
      },
      "id": "-gU82L483rVn"
    },
    {
      "cell_type": "code",
      "execution_count": null,
      "source": [
        "print(grid_search.best_params_)\n",
        "accuracy = grid_search.best_score_ *100\n",
        "print(\"Accuracy for our training dataset with tuning is : {:.2f}%\".format(accuracy) )"
      ],
      "outputs": [
        {
          "output_type": "stream",
          "name": "stdout",
          "text": [
            "{'n_estimators': 29}\n",
            "Accuracy for our training dataset with tuning is : 96.76%\n"
          ]
        }
      ],
      "metadata": {
        "id": "GrqxKW673rVo",
        "outputId": "3e8255bc-6e3c-48e7-e199-6371eeb4c44f"
      },
      "id": "GrqxKW673rVo"
    },
    {
      "cell_type": "code",
      "execution_count": null,
      "source": [
        "print(classification_report(y_test, grid_search.predict(x_test)))"
      ],
      "outputs": [
        {
          "output_type": "stream",
          "name": "stdout",
          "text": [
            "              precision    recall  f1-score   support\n",
            "\n",
            "       FATAL       0.13      0.01      0.02      2607\n",
            "   NON_FATAL       0.97      1.00      0.98     84302\n",
            "\n",
            "    accuracy                           0.97     86909\n",
            "   macro avg       0.55      0.50      0.50     86909\n",
            "weighted avg       0.94      0.97      0.95     86909\n",
            "\n"
          ]
        }
      ],
      "metadata": {
        "id": "vYxi8RBA3rVp",
        "outputId": "24b814af-bd8c-4817-baf1-a36af1677a2e"
      },
      "id": "vYxi8RBA3rVp"
    },
    {
      "cell_type": "markdown",
      "source": [
        "Creating the KNN Classifier with the same Data for train and Test"
      ],
      "metadata": {
        "id": "_gkpp7wY3rVp"
      },
      "id": "_gkpp7wY3rVp"
    },
    {
      "cell_type": "code",
      "execution_count": null,
      "source": [
        "knn = KNeighborsClassifier()\n",
        "\n",
        "k_range = list(range(1, 31))\n",
        "param_grid = dict(n_neighbors=k_range)\n",
        "  \n",
        "# defining parameter range\n",
        "grid = GridSearchCV(knn, param_grid, cv=10, scoring='accuracy', return_train_score=False,verbose=1)\n",
        "  \n",
        "# fitting the model for grid search\n",
        "grid_search=grid.fit(x_train, y_train)\n",
        "\n",
        "print(grid_search.best_params_)\n",
        "accuracy = grid_search.best_score_ *100\n",
        "print(\"Accuracy for our training dataset with tuning is : {:.2f}%\".format(accuracy) )\n",
        "\n",
        "#Printing the Classification Report\n",
        "print(classification_report(y_test, grid_search.predict(x_test)))"
      ],
      "outputs": [],
      "metadata": {
        "id": "5o3TFOj23rVq"
      },
      "id": "5o3TFOj23rVq"
    }
  ],
  "metadata": {
    "kernelspec": {
      "name": "python3",
      "display_name": "Python 3.9.7 64-bit ('base': conda)"
    },
    "language_info": {
      "codemirror_mode": {
        "name": "ipython",
        "version": 3
      },
      "file_extension": ".py",
      "mimetype": "text/x-python",
      "name": "python",
      "nbconvert_exporter": "python",
      "pygments_lexer": "ipython3",
      "version": "3.9.7"
    },
    "interpreter": {
      "hash": "99b8982894b92fb2d3ffd988b29ebe392658d12cd82fa95c2e2471ce100d278a"
    },
    "colab": {
      "provenance": []
    }
  },
  "nbformat": 4,
  "nbformat_minor": 5
}