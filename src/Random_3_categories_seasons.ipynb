{
  "cells": [
    {
      "cell_type": "markdown",
      "source": [
        "Importing all the required libraries"
      ],
      "metadata": {
        "id": "ba6h-mrjAtoH"
      },
      "id": "ba6h-mrjAtoH"
    },
    {
      "cell_type": "code",
      "execution_count": 1,
      "source": [
        "import random\n",
        "import numpy as np\n",
        "import pandas as pd\n",
        "import matplotlib.pyplot as plt\n",
        "from sklearn.preprocessing import StandardScaler\n",
        "from sklearn.model_selection import train_test_split\n",
        "from sklearn.preprocessing import OneHotEncoder\n",
        "from sklearn.ensemble import RandomForestClassifier\n",
        "from sklearn.ensemble import GradientBoostingClassifier\n",
        "from sklearn.metrics import confusion_matrix, classification_report, accuracy_score\n",
        "from sklearn.pipeline import Pipeline\n",
        "from sklearn.compose import ColumnTransformer\n",
        "from sklearn.impute import SimpleImputer\n",
        "from sklearn.preprocessing import OneHotEncoder\n",
        "from sklearn.preprocessing import StandardScaler\n",
        "from sklearn.tree import DecisionTreeClassifier\n",
        "from sklearn.model_selection import GridSearchCV\n",
        "from sklearn.svm import SVC\n",
        "from sklearn.neighbors import KNeighborsClassifier\n"
      ],
      "outputs": [],
      "metadata": {
        "id": "EXWaw4c2AtoK"
      },
      "id": "EXWaw4c2AtoK"
    },
    {
      "cell_type": "markdown",
      "source": [
        "Reading the CSV File aand breaking the DateTime to seasons, weekday"
      ],
      "metadata": {
        "id": "KdqyxRtCAtoL"
      },
      "id": "KdqyxRtCAtoL"
    },
    {
      "cell_type": "code",
      "execution_count": null,
      "source": [
        "\n",
        "\n",
        "df = pd.read_csv(\"/content/sample_data/Part1_Crime_data.csv\")\n",
        "df.shape\n",
        "\n",
        "df['CrimeDateTime'] = df['CrimeDateTime'].astype('datetime64[ns]')\n",
        "df['Crime_Year']=df.CrimeDateTime.dt.year\n",
        "df['Crime_Month']=df.CrimeDateTime.dt.month_name()\n",
        "df['Crime_Day']=df.CrimeDateTime.dt.day\n",
        "df['Crime_Hour']=df.CrimeDateTime.dt.hour\n",
        "df['Crime_WeekDay'] = df.CrimeDateTime.dt.weekday\n",
        "print(df['Crime_WeekDay'])\n"
      ],
      "outputs": [
        {
          "output_type": "stream",
          "name": "stdout",
          "text": [
            "0         5\n",
            "1         5\n",
            "2         5\n",
            "3         5\n",
            "4         5\n",
            "         ..\n",
            "434539    2\n",
            "434540    2\n",
            "434541    2\n",
            "434542    2\n",
            "434543    2\n",
            "Name: Crime_WeekDay, Length: 434544, dtype: int64\n"
          ]
        }
      ],
      "metadata": {
        "id": "gH23lH-XAtoM",
        "outputId": "2ca7a8f1-b67d-4492-ef5a-c24ab655f9cc"
      },
      "id": "gH23lH-XAtoM"
    },
    {
      "cell_type": "markdown",
      "source": [
        "Categorizing the Crime types into Low Medium and High (0,1,2)"
      ],
      "metadata": {
        "id": "ZAmoqQ39AtoN"
      },
      "id": "ZAmoqQ39AtoN"
    },
    {
      "cell_type": "code",
      "execution_count": null,
      "source": [
        "\n",
        "replace_val = \"0\"\n",
        "df.replace(\"LARCENY\", replace_val, inplace=True)\n",
        "df.replace(\"LARCENY FROM AUTO\", replace_val, inplace=True)\n",
        "df.replace(\"AUTO THEFT\", replace_val, inplace=True)\n",
        "df.replace(\"BURGLARY\", replace_val, inplace=True)\n",
        "\n",
        "replace_val = \"1\"\n",
        "df.replace(\"ROBBERY\", replace_val, inplace=True)\n",
        "df.replace(\"ROBBERY - STREET\", replace_val, inplace=True)\n",
        "df.replace(\"ROBBERY - COMMERCIAL\", replace_val, inplace=True)\n",
        "df.replace(\"ROBBERY - RESIDENCE\", replace_val, inplace=True)\n",
        "df.replace(\"ROBBERY - CARJACKING\", replace_val, inplace=True)\n",
        "df.replace(\"ASSAULT\", replace_val, inplace=True)\n",
        "df.replace(\"COMMON ASSAULT\", replace_val, inplace=True)\n",
        "df.replace(\"AGG. ASSAULT\", replace_val, inplace=True)\n",
        "\n",
        "#Fatal\n",
        "replace_val = \"2\"\n",
        "df.replace(\"SHOOTING\", replace_val, inplace=True)\n",
        "df.replace(\"RAPE\", replace_val, inplace=True)\n",
        "df.replace(\"ARSON\", replace_val, inplace=True)\n",
        "df.replace(\"HOMICIDE\", replace_val, inplace=True)\n",
        "\n",
        "\n"
      ],
      "outputs": [],
      "metadata": {
        "id": "4YL0v8VPAtoO"
      },
      "id": "4YL0v8VPAtoO"
    },
    {
      "cell_type": "markdown",
      "source": [
        "Categorizing months into seasons"
      ],
      "metadata": {
        "id": "WGZL5keHAtoO"
      },
      "id": "WGZL5keHAtoO"
    },
    {
      "cell_type": "code",
      "execution_count": null,
      "source": [
        "\n",
        "\n",
        "\n",
        "#changing the labels of month to quantitative values\n",
        "#1-Spring\n",
        "#2-Summer\n",
        "#3-Rainy\n",
        "#4-Winter\n",
        "df.replace(\"January\", 4, inplace=True)\n",
        "df.replace(\"February\", 4, inplace=True)\n",
        "df.replace(\"March\", 1, inplace=True)\n",
        "df.replace(\"April\", 1, inplace=True)\n",
        "df.replace(\"May\", 1, inplace=True)\n",
        "df.replace(\"June\", 2, inplace=True)\n",
        "df.replace(\"July\", 2, inplace=True)\n",
        "df.replace(\"August\", 2, inplace=True)\n",
        "df.replace(\"September\", 3, inplace=True)\n",
        "df.replace(\"October\", 3, inplace=True)\n",
        "df.replace(\"November\", 3, inplace=True)\n",
        "df.replace(\"December\", 4, inplace=True)\n",
        "\n",
        "df['Crime_WeekDay'] = np.where((df['Crime_WeekDay']) < 5,0,1)\n",
        "\n",
        "df = df.rename(columns={'Description': 'Level', 'Crime_Month': 'Season'})\n",
        "\n",
        "\n",
        "col_list = ['Season','Crime_Hour','District','Neighborhood','Crime_WeekDay']\n",
        "\n",
        "df2 = df[col_list]\n",
        "\n",
        "#factorize independent variables:\n",
        "\n"
      ],
      "outputs": [],
      "metadata": {
        "id": "pBH15YAxAtoP"
      },
      "id": "pBH15YAxAtoP"
    },
    {
      "cell_type": "markdown",
      "source": [
        "Factorizing independent variables"
      ],
      "metadata": {
        "id": "-yDgMUvDAtoQ"
      },
      "id": "-yDgMUvDAtoQ"
    },
    {
      "cell_type": "code",
      "execution_count": null,
      "source": [
        "\n",
        "#factorize weekday\n",
        "weekday_var = pd.factorize(df2['Crime_WeekDay'])\n",
        "df2['Crime_WeekDay'] = weekday_var[0]\n",
        "weekday = weekday_var[1] \n",
        "\n",
        "#factorize Season:\n",
        "season_var = pd.factorize(df2['Season'])\n",
        "df2['Season'] = season_var[0]\n",
        "season = season_var[1] \n",
        "\n",
        "#factorize Crime_Hour:\n",
        "hour_var = pd.factorize(df2['Crime_Hour'])\n",
        "df2['Crime_Hour'] = hour_var[0]\n",
        "definition_list_Crime_Hour = hour_var[1] \n",
        "\n",
        "#factorize District:\n",
        "district_var = pd.factorize(df2['District'])\n",
        "df2['District'] = district_var[0]\n",
        "district = district_var[1] \n",
        "\n",
        "#factorize Neighborhood:\n",
        "neighbourhood_var = pd.factorize(df2['Neighborhood'])\n",
        "df2['Neighborhood'] = neighbourhood_var[0]\n",
        "neighborhood = neighbourhood_var[1]\n",
        "\n",
        "\n",
        "y=df['Level']\n",
        "X=df2\n"
      ],
      "outputs": [
        {
          "output_type": "stream",
          "name": "stderr",
          "text": [
            "/var/folders/lw/8n3p52954nqb3s4smlypqtvr0000gn/T/ipykernel_88151/1544842150.py:2: SettingWithCopyWarning: \n",
            "A value is trying to be set on a copy of a slice from a DataFrame.\n",
            "Try using .loc[row_indexer,col_indexer] = value instead\n",
            "\n",
            "See the caveats in the documentation: https://pandas.pydata.org/pandas-docs/stable/user_guide/indexing.html#returning-a-view-versus-a-copy\n",
            "  df2['Crime_WeekDay'] = premise_var[0]\n",
            "/var/folders/lw/8n3p52954nqb3s4smlypqtvr0000gn/T/ipykernel_88151/1544842150.py:7: SettingWithCopyWarning: \n",
            "A value is trying to be set on a copy of a slice from a DataFrame.\n",
            "Try using .loc[row_indexer,col_indexer] = value instead\n",
            "\n",
            "See the caveats in the documentation: https://pandas.pydata.org/pandas-docs/stable/user_guide/indexing.html#returning-a-view-versus-a-copy\n",
            "  df2['Season'] = month_var[0]\n",
            "/var/folders/lw/8n3p52954nqb3s4smlypqtvr0000gn/T/ipykernel_88151/1544842150.py:12: SettingWithCopyWarning: \n",
            "A value is trying to be set on a copy of a slice from a DataFrame.\n",
            "Try using .loc[row_indexer,col_indexer] = value instead\n",
            "\n",
            "See the caveats in the documentation: https://pandas.pydata.org/pandas-docs/stable/user_guide/indexing.html#returning-a-view-versus-a-copy\n",
            "  df2['Crime_Hour'] = dayweek_var[0]\n",
            "/var/folders/lw/8n3p52954nqb3s4smlypqtvr0000gn/T/ipykernel_88151/1544842150.py:17: SettingWithCopyWarning: \n",
            "A value is trying to be set on a copy of a slice from a DataFrame.\n",
            "Try using .loc[row_indexer,col_indexer] = value instead\n",
            "\n",
            "See the caveats in the documentation: https://pandas.pydata.org/pandas-docs/stable/user_guide/indexing.html#returning-a-view-versus-a-copy\n",
            "  df2['District'] = division_var[0]\n",
            "/var/folders/lw/8n3p52954nqb3s4smlypqtvr0000gn/T/ipykernel_88151/1544842150.py:22: SettingWithCopyWarning: \n",
            "A value is trying to be set on a copy of a slice from a DataFrame.\n",
            "Try using .loc[row_indexer,col_indexer] = value instead\n",
            "\n",
            "See the caveats in the documentation: https://pandas.pydata.org/pandas-docs/stable/user_guide/indexing.html#returning-a-view-versus-a-copy\n",
            "  df2['Neighborhood'] = hood_var[0]\n"
          ]
        }
      ],
      "metadata": {
        "id": "f80pram2AtoQ",
        "outputId": "aceef14c-e09c-4244-bb60-a28d0684a4ff"
      },
      "id": "f80pram2AtoQ"
    },
    {
      "cell_type": "code",
      "execution_count": null,
      "source": [
        "df2.head"
      ],
      "outputs": [
        {
          "output_type": "execute_result",
          "data": {
            "text/plain": [
              "<bound method NDFrame.head of         Season  Crime_Hour  District  Neighborhood  Crime_WeekDay\n",
              "0            0           0         0             0              0\n",
              "1            0           0         0             0              0\n",
              "2            0           0         0             0              0\n",
              "3            0           1         1             1              0\n",
              "4            0           2         2             2              0\n",
              "...        ...         ...       ...           ...            ...\n",
              "434539       3           7         7           237              1\n",
              "434540       3          21         6           165              1\n",
              "434541       3           4         4            41              1\n",
              "434542       3           4         6           106              1\n",
              "434543       3          17         7            12              1\n",
              "\n",
              "[434544 rows x 5 columns]>"
            ]
          },
          "metadata": {},
          "execution_count": 15
        }
      ],
      "metadata": {
        "id": "-sBwUV89AtoR",
        "outputId": "c29e32b1-f27f-4141-efb0-f1083d4cb27d"
      },
      "id": "-sBwUV89AtoR"
    },
    {
      "cell_type": "markdown",
      "source": [
        "Splitting the Train and Test Data\n"
      ],
      "metadata": {
        "id": "MjgtAlx5AtoS"
      },
      "id": "MjgtAlx5AtoS"
    },
    {
      "cell_type": "code",
      "execution_count": null,
      "source": [
        "x_train, x_test, y_train, y_test = train_test_split(X, y, test_size=0.2, random_state = 123)"
      ],
      "outputs": [],
      "metadata": {
        "id": "D2aiWlmwAtoS"
      },
      "id": "D2aiWlmwAtoS"
    },
    {
      "cell_type": "markdown",
      "source": [
        "Created the RandomForestClassifier using GridSearchCV"
      ],
      "metadata": {
        "id": "KLC2VIslAtoT"
      },
      "id": "KLC2VIslAtoT"
    },
    {
      "cell_type": "code",
      "execution_count": null,
      "source": [
        "random = RandomForestClassifier()\n",
        "from sklearn.model_selection import GridSearchCV\n",
        "k_range = list(range(1, 31))\n",
        "param_grid = dict(n_estimators=k_range)\n",
        "# param_grid = [\n",
        "#   {'max_depth': [2, 5, 10],\n",
        "#    'min_samples_split':[3, 5, 10],\n",
        "#    'class_weight':[None, 'balanced'],\n",
        "#    'n_estimators':[10,20]\n",
        "#   }\n",
        "#  ]\n",
        "  \n",
        "# defining parameter range\n",
        "grid = GridSearchCV(random, param_grid, cv=10, scoring='accuracy', return_train_score=False,verbose=1)\n",
        "  \n",
        "# fitting the model for grid search\n",
        "grid_search=grid.fit(x_train, y_train)"
      ],
      "outputs": [
        {
          "output_type": "stream",
          "name": "stdout",
          "text": [
            "Fitting 10 folds for each of 30 candidates, totalling 300 fits\n"
          ]
        }
      ],
      "metadata": {
        "id": "JPToORGGAtoT",
        "outputId": "ee059716-261f-47e3-bdd1-bfc5d7544c95"
      },
      "id": "JPToORGGAtoT"
    },
    {
      "cell_type": "code",
      "execution_count": null,
      "source": [
        "print(grid_search.best_params_)\n",
        "accuracy = grid_search.best_score_ *100\n",
        "print(\"Accuracy for our training dataset with tuning is : {:.2f}%\".format(accuracy) )"
      ],
      "outputs": [
        {
          "output_type": "stream",
          "name": "stdout",
          "text": [
            "{'n_estimators': 30}\n",
            "Accuracy for our training dataset with tuning is : 58.17%\n"
          ]
        }
      ],
      "metadata": {
        "id": "aUQpN0i2AtoT",
        "outputId": "c74b79df-a845-46a7-b0d7-fc33feb043e6"
      },
      "id": "aUQpN0i2AtoT"
    },
    {
      "cell_type": "code",
      "execution_count": null,
      "source": [
        "print(classification_report(y_test, grid_search.predict(x_test)))"
      ],
      "outputs": [
        {
          "output_type": "stream",
          "name": "stdout",
          "text": [
            "              precision    recall  f1-score   support\n",
            "\n",
            "           0       0.63      0.74      0.68     50248\n",
            "           1       0.49      0.40      0.44     34054\n",
            "           2       0.12      0.02      0.03      2607\n",
            "\n",
            "    accuracy                           0.58     86909\n",
            "   macro avg       0.41      0.39      0.38     86909\n",
            "weighted avg       0.56      0.58      0.57     86909\n",
            "\n"
          ]
        }
      ],
      "metadata": {
        "id": "Lh8qSYo7AtoU",
        "outputId": "f7c2944c-b910-4906-c270-03d01f4a4f10"
      },
      "id": "Lh8qSYo7AtoU"
    },
    {
      "cell_type": "markdown",
      "source": [
        "Creating the KNN Classifier with the same Data for train and Test"
      ],
      "metadata": {
        "id": "3gXPkqZGAtoU"
      },
      "id": "3gXPkqZGAtoU"
    },
    {
      "cell_type": "code",
      "execution_count": null,
      "source": [
        "knn = KNeighborsClassifier()\n",
        "\n",
        "k_range = list(range(1, 31))\n",
        "param_grid = dict(n_neighbors=k_range)\n",
        "  \n",
        "# defining parameter range\n",
        "grid = GridSearchCV(knn, param_grid, cv=10, scoring='accuracy', return_train_score=False,verbose=1)\n",
        "  \n",
        "# fitting the model for grid search\n",
        "grid_search=grid.fit(x_train, y_train)\n",
        "\n",
        "print(grid_search.best_params_)\n",
        "accuracy = grid_search.best_score_ *100\n",
        "print(\"Accuracy for our training dataset with tuning is : {:.2f}%\".format(accuracy) )\n",
        "\n",
        "#Printing the Classification Report\n",
        "print(classification_report(y_test, grid_search.predict(x_test)))"
      ],
      "outputs": [],
      "metadata": {
        "id": "IV1LSsAqAtoU"
      },
      "id": "IV1LSsAqAtoU"
    }
  ],
  "metadata": {
    "kernelspec": {
      "name": "python3",
      "display_name": "Python 3.9.7 64-bit ('base': conda)"
    },
    "language_info": {
      "codemirror_mode": {
        "name": "ipython",
        "version": 3
      },
      "file_extension": ".py",
      "mimetype": "text/x-python",
      "name": "python",
      "nbconvert_exporter": "python",
      "pygments_lexer": "ipython3",
      "version": "3.9.7"
    },
    "interpreter": {
      "hash": "99b8982894b92fb2d3ffd988b29ebe392658d12cd82fa95c2e2471ce100d278a"
    },
    "colab": {
      "provenance": []
    }
  },
  "nbformat": 4,
  "nbformat_minor": 5
}